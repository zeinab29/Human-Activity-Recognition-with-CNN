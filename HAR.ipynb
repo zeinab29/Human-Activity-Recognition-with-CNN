{
  "nbformat": 4,
  "nbformat_minor": 0,
  "metadata": {
    "colab": {
      "name": "HAR.ipynb",
      "provenance": [],
      "collapsed_sections": [],
      "authorship_tag": "ABX9TyNJ06pTH5UZdc739S5IkgF6",
      "include_colab_link": true
    },
    "kernelspec": {
      "name": "python3",
      "display_name": "Python 3"
    },
    "language_info": {
      "name": "python"
    }
  },
  "cells": [
    {
      "cell_type": "markdown",
      "metadata": {
        "id": "view-in-github",
        "colab_type": "text"
      },
      "source": [
        "<a href=\"https://colab.research.google.com/github/zeinab29/Human-Activity-Recognition-with-CNN/blob/main/HAR.ipynb\" target=\"_parent\"><img src=\"https://colab.research.google.com/assets/colab-badge.svg\" alt=\"Open In Colab\"/></a>"
      ]
    },
    {
      "cell_type": "code",
      "source": [
        "from google.colab import drive\n",
        "drive.mount('/content/drive/')\n"
      ],
      "metadata": {
        "colab": {
          "base_uri": "https://localhost:8080/"
        },
        "id": "e8KB4ehW-lAk",
        "outputId": "49a6f466-0971-459a-988c-f875ac7a5e2a"
      },
      "execution_count": null,
      "outputs": [
        {
          "output_type": "stream",
          "name": "stdout",
          "text": [
            "Drive already mounted at /content/drive/; to attempt to forcibly remount, call drive.mount(\"/content/drive/\", force_remount=True).\n"
          ]
        }
      ]
    },
    {
      "cell_type": "code",
      "execution_count": null,
      "metadata": {
        "id": "WpFnGAda-a5O"
      },
      "outputs": [],
      "source": [
        "# load a single file as a numpy array\n",
        "filepath = \"/content/drive/MyDrive/AI_Team_graduation_project/d.hany/WISDM_ar_v1.1_raw.txt\"\n"
      ]
    },
    {
      "cell_type": "code",
      "source": [
        "from __future__ import print_function\n",
        "from matplotlib import pyplot as plt\n",
        "%matplotlib inline\n",
        "import numpy as np\n",
        "import pandas as pd\n",
        "import seaborn as sns\n",
        "#import coremltools\n",
        "from scipy import stats\n",
        "from IPython.display import display, HTML\n",
        "\n",
        "from sklearn import metrics\n",
        "from sklearn.metrics import classification_report\n",
        "from sklearn import preprocessing\n",
        "\n",
        "import keras\n",
        "from keras.models import Sequential\n",
        "from keras.layers import Dense, Dropout, Flatten, Reshape\n",
        "from keras.layers import Conv2D, MaxPooling2D\n",
        "from keras.utils import np_utils"
      ],
      "metadata": {
        "id": "ojzqGppe_Hyy",
        "colab": {
          "base_uri": "https://localhost:8080/"
        },
        "outputId": "f6ee9b15-c131-4ce0-a156-e182288864df"
      },
      "execution_count": null,
      "outputs": [
        {
          "output_type": "stream",
          "name": "stderr",
          "text": [
            "Using TensorFlow backend.\n",
            "/root/.local/lib/python3.7/site-packages/tensorflow/python/framework/dtypes.py:526: FutureWarning: Passing (type, 1) or '1type' as a synonym of type is deprecated; in a future version of numpy, it will be understood as (type, (1,)) / '(1,)type'.\n",
            "  _np_qint8 = np.dtype([(\"qint8\", np.int8, 1)])\n",
            "/root/.local/lib/python3.7/site-packages/tensorflow/python/framework/dtypes.py:527: FutureWarning: Passing (type, 1) or '1type' as a synonym of type is deprecated; in a future version of numpy, it will be understood as (type, (1,)) / '(1,)type'.\n",
            "  _np_quint8 = np.dtype([(\"quint8\", np.uint8, 1)])\n",
            "/root/.local/lib/python3.7/site-packages/tensorflow/python/framework/dtypes.py:528: FutureWarning: Passing (type, 1) or '1type' as a synonym of type is deprecated; in a future version of numpy, it will be understood as (type, (1,)) / '(1,)type'.\n",
            "  _np_qint16 = np.dtype([(\"qint16\", np.int16, 1)])\n",
            "/root/.local/lib/python3.7/site-packages/tensorflow/python/framework/dtypes.py:529: FutureWarning: Passing (type, 1) or '1type' as a synonym of type is deprecated; in a future version of numpy, it will be understood as (type, (1,)) / '(1,)type'.\n",
            "  _np_quint16 = np.dtype([(\"quint16\", np.uint16, 1)])\n",
            "/root/.local/lib/python3.7/site-packages/tensorflow/python/framework/dtypes.py:530: FutureWarning: Passing (type, 1) or '1type' as a synonym of type is deprecated; in a future version of numpy, it will be understood as (type, (1,)) / '(1,)type'.\n",
            "  _np_qint32 = np.dtype([(\"qint32\", np.int32, 1)])\n",
            "/root/.local/lib/python3.7/site-packages/tensorflow/python/framework/dtypes.py:535: FutureWarning: Passing (type, 1) or '1type' as a synonym of type is deprecated; in a future version of numpy, it will be understood as (type, (1,)) / '(1,)type'.\n",
            "  np_resource = np.dtype([(\"resource\", np.ubyte, 1)])\n"
          ]
        }
      ]
    },
    {
      "cell_type": "code",
      "source": [
        "!pip install keras==2.1.6 --user\n",
        " \n",
        "print('keras version ', keras.__version__)\n"
      ],
      "metadata": {
        "colab": {
          "base_uri": "https://localhost:8080/"
        },
        "id": "4rghyMPdBmXv",
        "outputId": "7eea3f1f-41e1-44b9-f7e0-c24f7e3fe399"
      },
      "execution_count": null,
      "outputs": [
        {
          "output_type": "stream",
          "name": "stdout",
          "text": [
            "Requirement already satisfied: keras==2.1.6 in /root/.local/lib/python3.7/site-packages (2.1.6)\n",
            "Requirement already satisfied: six>=1.9.0 in /usr/local/lib/python3.7/dist-packages (from keras==2.1.6) (1.15.0)\n",
            "Requirement already satisfied: h5py in /root/.local/lib/python3.7/site-packages (from keras==2.1.6) (2.10.0)\n",
            "Requirement already satisfied: pyyaml in /usr/local/lib/python3.7/dist-packages (from keras==2.1.6) (3.13)\n",
            "Requirement already satisfied: numpy>=1.9.1 in /root/.local/lib/python3.7/site-packages (from keras==2.1.6) (1.18.5)\n",
            "Requirement already satisfied: scipy>=0.14 in /usr/local/lib/python3.7/dist-packages (from keras==2.1.6) (1.4.1)\n",
            "keras version  2.1.6\n"
          ]
        }
      ]
    },
    {
      "cell_type": "code",
      "source": [
        "!pip install tensorflow==1.13.1 --user\n"
      ],
      "metadata": {
        "colab": {
          "base_uri": "https://localhost:8080/"
        },
        "id": "EYcNGmzFFljb",
        "outputId": "7b9c179f-b7c4-44c7-9c3a-4a009f256617"
      },
      "execution_count": null,
      "outputs": [
        {
          "output_type": "stream",
          "name": "stdout",
          "text": [
            "Requirement already satisfied: tensorflow==1.13.1 in /root/.local/lib/python3.7/site-packages (1.13.1)\n",
            "Requirement already satisfied: keras-applications>=1.0.6 in /root/.local/lib/python3.7/site-packages (from tensorflow==1.13.1) (1.0.8)\n",
            "Requirement already satisfied: six>=1.10.0 in /usr/local/lib/python3.7/dist-packages (from tensorflow==1.13.1) (1.15.0)\n",
            "Requirement already satisfied: tensorflow-estimator<1.14.0rc0,>=1.13.0 in /root/.local/lib/python3.7/site-packages (from tensorflow==1.13.1) (1.13.0)\n",
            "Requirement already satisfied: gast>=0.2.0 in /root/.local/lib/python3.7/site-packages (from tensorflow==1.13.1) (0.2.2)\n",
            "Requirement already satisfied: wheel>=0.26 in /usr/local/lib/python3.7/dist-packages (from tensorflow==1.13.1) (0.37.1)\n",
            "Requirement already satisfied: tensorboard<1.14.0,>=1.13.0 in /root/.local/lib/python3.7/site-packages (from tensorflow==1.13.1) (1.13.1)\n",
            "Requirement already satisfied: numpy>=1.13.3 in /root/.local/lib/python3.7/site-packages (from tensorflow==1.13.1) (1.18.5)\n",
            "Requirement already satisfied: protobuf>=3.6.1 in /usr/local/lib/python3.7/dist-packages (from tensorflow==1.13.1) (3.17.3)\n",
            "Requirement already satisfied: termcolor>=1.1.0 in /usr/local/lib/python3.7/dist-packages (from tensorflow==1.13.1) (1.1.0)\n",
            "Requirement already satisfied: astor>=0.6.0 in /usr/local/lib/python3.7/dist-packages (from tensorflow==1.13.1) (0.8.1)\n",
            "Requirement already satisfied: grpcio>=1.8.6 in /usr/local/lib/python3.7/dist-packages (from tensorflow==1.13.1) (1.44.0)\n",
            "Requirement already satisfied: absl-py>=0.1.6 in /usr/local/lib/python3.7/dist-packages (from tensorflow==1.13.1) (1.0.0)\n",
            "Requirement already satisfied: keras-preprocessing>=1.0.5 in /root/.local/lib/python3.7/site-packages (from tensorflow==1.13.1) (1.1.2)\n",
            "Requirement already satisfied: h5py in /root/.local/lib/python3.7/site-packages (from keras-applications>=1.0.6->tensorflow==1.13.1) (2.10.0)\n",
            "Requirement already satisfied: werkzeug>=0.11.15 in /usr/local/lib/python3.7/dist-packages (from tensorboard<1.14.0,>=1.13.0->tensorflow==1.13.1) (1.0.1)\n",
            "Requirement already satisfied: markdown>=2.6.8 in /usr/local/lib/python3.7/dist-packages (from tensorboard<1.14.0,>=1.13.0->tensorflow==1.13.1) (3.3.6)\n",
            "Requirement already satisfied: importlib-metadata>=4.4 in /usr/local/lib/python3.7/dist-packages (from markdown>=2.6.8->tensorboard<1.14.0,>=1.13.0->tensorflow==1.13.1) (4.11.3)\n",
            "Requirement already satisfied: typing-extensions>=3.6.4 in /usr/local/lib/python3.7/dist-packages (from importlib-metadata>=4.4->markdown>=2.6.8->tensorboard<1.14.0,>=1.13.0->tensorflow==1.13.1) (4.1.1)\n",
            "Requirement already satisfied: zipp>=0.5 in /usr/local/lib/python3.7/dist-packages (from importlib-metadata>=4.4->markdown>=2.6.8->tensorboard<1.14.0,>=1.13.0->tensorflow==1.13.1) (3.8.0)\n",
            "Requirement already satisfied: mock>=2.0.0 in /root/.local/lib/python3.7/site-packages (from tensorflow-estimator<1.14.0rc0,>=1.13.0->tensorflow==1.13.1) (4.0.3)\n"
          ]
        }
      ]
    },
    {
      "cell_type": "code",
      "source": [
        "# Set some standard parameters upfront\n",
        "pd.options.display.float_format = '{:.1f}'.format\n",
        "sns.set() # Default seaborn look and feel\n",
        "plt.style.use('ggplot')\n",
        "print('keras version ', keras.__version__)\n",
        "# Same labels will be reused throughout the program\n",
        "LABELS = ['Downstairs',\n",
        "          'Jogging',\n",
        "          'Sitting',\n",
        "          'Standing',\n",
        "          'Upstairs',\n",
        "          'Walking']\n",
        "# The number of steps within one time segment\n",
        "TIME_PERIODS = 80\n",
        "# The steps to take from one segment to the next; if this value is equal to\n",
        "# TIME_PERIODS, then there is no overlap between the segments\n",
        "STEP_DISTANCE = 40"
      ],
      "metadata": {
        "id": "CwjSY-qD_Lsn",
        "colab": {
          "base_uri": "https://localhost:8080/"
        },
        "outputId": "56d9982b-22cf-4b6c-8cd6-f4166c4b9dc5"
      },
      "execution_count": null,
      "outputs": [
        {
          "output_type": "stream",
          "name": "stdout",
          "text": [
            "keras version  2.1.6\n"
          ]
        }
      ]
    },
    {
      "cell_type": "code",
      "source": [
        "def read_data(file_path):\n",
        "\n",
        "    column_names = ['user-id',\n",
        "                    'activity',\n",
        "                    'timestamp',\n",
        "                    'x-axis',\n",
        "                    'y-axis',\n",
        "                    'z-axis']\n",
        "    df = pd.read_csv(file_path,\n",
        "                     header=None,\n",
        "                     names=column_names)\n",
        "    # Last column has a \";\" character which must be removed ...\n",
        "    df['z-axis'].replace(regex=True,\n",
        "      inplace=True,\n",
        "      to_replace=r';',\n",
        "      value=r'')\n",
        "    # ... and then this column must be transformed to float explicitly\n",
        "    df['z-axis'] = df['z-axis'].apply(convert_to_float)\n",
        "    # This is very important otherwise the model will not fit and loss\n",
        "    # will show up as NAN\n",
        "    df.dropna(axis=0, how='any', inplace=True)\n",
        "\n",
        "    return df\n",
        "\n",
        "def convert_to_float(x):\n",
        "\n",
        "    try:\n",
        "        return np.float(x)\n",
        "    except:\n",
        "        return np.nan\n",
        " \n",
        "def show_basic_dataframe_info(dataframe):\n",
        "\n",
        "    # Shape and how many rows and columns\n",
        "    print('Number of columns in the dataframe: %i' % (dataframe.shape[1]))\n",
        "    print('Number of rows in the dataframe: %i\\n' % (dataframe.shape[0]))"
      ],
      "metadata": {
        "id": "28JJaL4kCMO2"
      },
      "execution_count": null,
      "outputs": []
    },
    {
      "cell_type": "code",
      "source": [
        "df = read_data(filepath)"
      ],
      "metadata": {
        "id": "2Xb8LLCdCuDG"
      },
      "execution_count": null,
      "outputs": []
    },
    {
      "cell_type": "code",
      "source": [
        "# Describe the data\n",
        "show_basic_dataframe_info(df)\n",
        "df.head(20)"
      ],
      "metadata": {
        "colab": {
          "base_uri": "https://localhost:8080/",
          "height": 729
        },
        "id": "-lUwUgbUC0fv",
        "outputId": "18f671d1-c4b6-46e6-c36b-771a62aac262"
      },
      "execution_count": null,
      "outputs": [
        {
          "output_type": "stream",
          "name": "stdout",
          "text": [
            "Number of columns in the dataframe: 6\n",
            "Number of rows in the dataframe: 1098203\n",
            "\n"
          ]
        },
        {
          "output_type": "execute_result",
          "data": {
            "text/plain": [
              "    user-id activity       timestamp  x-axis  y-axis  z-axis\n",
              "0        33  Jogging  49105962326000    -0.7    12.7     0.5\n",
              "1        33  Jogging  49106062271000     5.0    11.3     1.0\n",
              "2        33  Jogging  49106112167000     4.9    10.9    -0.1\n",
              "3        33  Jogging  49106222305000    -0.6    18.5     3.0\n",
              "4        33  Jogging  49106332290000    -1.2    12.1     7.2\n",
              "5        33  Jogging  49106442306000     1.4    -2.5    -6.5\n",
              "6        33  Jogging  49106542312000    -0.6    10.6     5.7\n",
              "7        33  Jogging  49106652389000    -0.5    13.9     7.1\n",
              "8        33  Jogging  49106762313000    -8.4    11.4     5.1\n",
              "9        33  Jogging  49106872299000     1.0     1.4     1.6\n",
              "10       33  Jogging  49106982315000    -8.2    19.6     2.7\n",
              "11       33  Jogging  49107092330000     1.4     5.8     3.0\n",
              "12       33  Jogging  49107202316000    -1.9    -3.0    -0.3\n",
              "13       33  Jogging  49107312332000    -6.1     6.9    -8.2\n",
              "14       33  Jogging  49107422348000     5.8    18.0     8.5\n",
              "15       33  Jogging  49107522293000     6.3     3.0     2.9\n",
              "16       33  Jogging  49107632339000    -1.6     8.3    -1.5\n",
              "17       33  Jogging  49107742355000     3.5    13.6     9.4\n",
              "18       33  Jogging  49107852340000    -2.0    -5.7   -10.2\n",
              "19       33  Jogging  49107962326000     2.8    10.3    -9.7"
            ],
            "text/html": [
              "\n",
              "  <div id=\"df-e795b113-1d05-4c33-9f6b-7bf84f8846d6\">\n",
              "    <div class=\"colab-df-container\">\n",
              "      <div>\n",
              "<style scoped>\n",
              "    .dataframe tbody tr th:only-of-type {\n",
              "        vertical-align: middle;\n",
              "    }\n",
              "\n",
              "    .dataframe tbody tr th {\n",
              "        vertical-align: top;\n",
              "    }\n",
              "\n",
              "    .dataframe thead th {\n",
              "        text-align: right;\n",
              "    }\n",
              "</style>\n",
              "<table border=\"1\" class=\"dataframe\">\n",
              "  <thead>\n",
              "    <tr style=\"text-align: right;\">\n",
              "      <th></th>\n",
              "      <th>user-id</th>\n",
              "      <th>activity</th>\n",
              "      <th>timestamp</th>\n",
              "      <th>x-axis</th>\n",
              "      <th>y-axis</th>\n",
              "      <th>z-axis</th>\n",
              "    </tr>\n",
              "  </thead>\n",
              "  <tbody>\n",
              "    <tr>\n",
              "      <th>0</th>\n",
              "      <td>33</td>\n",
              "      <td>Jogging</td>\n",
              "      <td>49105962326000</td>\n",
              "      <td>-0.7</td>\n",
              "      <td>12.7</td>\n",
              "      <td>0.5</td>\n",
              "    </tr>\n",
              "    <tr>\n",
              "      <th>1</th>\n",
              "      <td>33</td>\n",
              "      <td>Jogging</td>\n",
              "      <td>49106062271000</td>\n",
              "      <td>5.0</td>\n",
              "      <td>11.3</td>\n",
              "      <td>1.0</td>\n",
              "    </tr>\n",
              "    <tr>\n",
              "      <th>2</th>\n",
              "      <td>33</td>\n",
              "      <td>Jogging</td>\n",
              "      <td>49106112167000</td>\n",
              "      <td>4.9</td>\n",
              "      <td>10.9</td>\n",
              "      <td>-0.1</td>\n",
              "    </tr>\n",
              "    <tr>\n",
              "      <th>3</th>\n",
              "      <td>33</td>\n",
              "      <td>Jogging</td>\n",
              "      <td>49106222305000</td>\n",
              "      <td>-0.6</td>\n",
              "      <td>18.5</td>\n",
              "      <td>3.0</td>\n",
              "    </tr>\n",
              "    <tr>\n",
              "      <th>4</th>\n",
              "      <td>33</td>\n",
              "      <td>Jogging</td>\n",
              "      <td>49106332290000</td>\n",
              "      <td>-1.2</td>\n",
              "      <td>12.1</td>\n",
              "      <td>7.2</td>\n",
              "    </tr>\n",
              "    <tr>\n",
              "      <th>5</th>\n",
              "      <td>33</td>\n",
              "      <td>Jogging</td>\n",
              "      <td>49106442306000</td>\n",
              "      <td>1.4</td>\n",
              "      <td>-2.5</td>\n",
              "      <td>-6.5</td>\n",
              "    </tr>\n",
              "    <tr>\n",
              "      <th>6</th>\n",
              "      <td>33</td>\n",
              "      <td>Jogging</td>\n",
              "      <td>49106542312000</td>\n",
              "      <td>-0.6</td>\n",
              "      <td>10.6</td>\n",
              "      <td>5.7</td>\n",
              "    </tr>\n",
              "    <tr>\n",
              "      <th>7</th>\n",
              "      <td>33</td>\n",
              "      <td>Jogging</td>\n",
              "      <td>49106652389000</td>\n",
              "      <td>-0.5</td>\n",
              "      <td>13.9</td>\n",
              "      <td>7.1</td>\n",
              "    </tr>\n",
              "    <tr>\n",
              "      <th>8</th>\n",
              "      <td>33</td>\n",
              "      <td>Jogging</td>\n",
              "      <td>49106762313000</td>\n",
              "      <td>-8.4</td>\n",
              "      <td>11.4</td>\n",
              "      <td>5.1</td>\n",
              "    </tr>\n",
              "    <tr>\n",
              "      <th>9</th>\n",
              "      <td>33</td>\n",
              "      <td>Jogging</td>\n",
              "      <td>49106872299000</td>\n",
              "      <td>1.0</td>\n",
              "      <td>1.4</td>\n",
              "      <td>1.6</td>\n",
              "    </tr>\n",
              "    <tr>\n",
              "      <th>10</th>\n",
              "      <td>33</td>\n",
              "      <td>Jogging</td>\n",
              "      <td>49106982315000</td>\n",
              "      <td>-8.2</td>\n",
              "      <td>19.6</td>\n",
              "      <td>2.7</td>\n",
              "    </tr>\n",
              "    <tr>\n",
              "      <th>11</th>\n",
              "      <td>33</td>\n",
              "      <td>Jogging</td>\n",
              "      <td>49107092330000</td>\n",
              "      <td>1.4</td>\n",
              "      <td>5.8</td>\n",
              "      <td>3.0</td>\n",
              "    </tr>\n",
              "    <tr>\n",
              "      <th>12</th>\n",
              "      <td>33</td>\n",
              "      <td>Jogging</td>\n",
              "      <td>49107202316000</td>\n",
              "      <td>-1.9</td>\n",
              "      <td>-3.0</td>\n",
              "      <td>-0.3</td>\n",
              "    </tr>\n",
              "    <tr>\n",
              "      <th>13</th>\n",
              "      <td>33</td>\n",
              "      <td>Jogging</td>\n",
              "      <td>49107312332000</td>\n",
              "      <td>-6.1</td>\n",
              "      <td>6.9</td>\n",
              "      <td>-8.2</td>\n",
              "    </tr>\n",
              "    <tr>\n",
              "      <th>14</th>\n",
              "      <td>33</td>\n",
              "      <td>Jogging</td>\n",
              "      <td>49107422348000</td>\n",
              "      <td>5.8</td>\n",
              "      <td>18.0</td>\n",
              "      <td>8.5</td>\n",
              "    </tr>\n",
              "    <tr>\n",
              "      <th>15</th>\n",
              "      <td>33</td>\n",
              "      <td>Jogging</td>\n",
              "      <td>49107522293000</td>\n",
              "      <td>6.3</td>\n",
              "      <td>3.0</td>\n",
              "      <td>2.9</td>\n",
              "    </tr>\n",
              "    <tr>\n",
              "      <th>16</th>\n",
              "      <td>33</td>\n",
              "      <td>Jogging</td>\n",
              "      <td>49107632339000</td>\n",
              "      <td>-1.6</td>\n",
              "      <td>8.3</td>\n",
              "      <td>-1.5</td>\n",
              "    </tr>\n",
              "    <tr>\n",
              "      <th>17</th>\n",
              "      <td>33</td>\n",
              "      <td>Jogging</td>\n",
              "      <td>49107742355000</td>\n",
              "      <td>3.5</td>\n",
              "      <td>13.6</td>\n",
              "      <td>9.4</td>\n",
              "    </tr>\n",
              "    <tr>\n",
              "      <th>18</th>\n",
              "      <td>33</td>\n",
              "      <td>Jogging</td>\n",
              "      <td>49107852340000</td>\n",
              "      <td>-2.0</td>\n",
              "      <td>-5.7</td>\n",
              "      <td>-10.2</td>\n",
              "    </tr>\n",
              "    <tr>\n",
              "      <th>19</th>\n",
              "      <td>33</td>\n",
              "      <td>Jogging</td>\n",
              "      <td>49107962326000</td>\n",
              "      <td>2.8</td>\n",
              "      <td>10.3</td>\n",
              "      <td>-9.7</td>\n",
              "    </tr>\n",
              "  </tbody>\n",
              "</table>\n",
              "</div>\n",
              "      <button class=\"colab-df-convert\" onclick=\"convertToInteractive('df-e795b113-1d05-4c33-9f6b-7bf84f8846d6')\"\n",
              "              title=\"Convert this dataframe to an interactive table.\"\n",
              "              style=\"display:none;\">\n",
              "        \n",
              "  <svg xmlns=\"http://www.w3.org/2000/svg\" height=\"24px\"viewBox=\"0 0 24 24\"\n",
              "       width=\"24px\">\n",
              "    <path d=\"M0 0h24v24H0V0z\" fill=\"none\"/>\n",
              "    <path d=\"M18.56 5.44l.94 2.06.94-2.06 2.06-.94-2.06-.94-.94-2.06-.94 2.06-2.06.94zm-11 1L8.5 8.5l.94-2.06 2.06-.94-2.06-.94L8.5 2.5l-.94 2.06-2.06.94zm10 10l.94 2.06.94-2.06 2.06-.94-2.06-.94-.94-2.06-.94 2.06-2.06.94z\"/><path d=\"M17.41 7.96l-1.37-1.37c-.4-.4-.92-.59-1.43-.59-.52 0-1.04.2-1.43.59L10.3 9.45l-7.72 7.72c-.78.78-.78 2.05 0 2.83L4 21.41c.39.39.9.59 1.41.59.51 0 1.02-.2 1.41-.59l7.78-7.78 2.81-2.81c.8-.78.8-2.07 0-2.86zM5.41 20L4 18.59l7.72-7.72 1.47 1.35L5.41 20z\"/>\n",
              "  </svg>\n",
              "      </button>\n",
              "      \n",
              "  <style>\n",
              "    .colab-df-container {\n",
              "      display:flex;\n",
              "      flex-wrap:wrap;\n",
              "      gap: 12px;\n",
              "    }\n",
              "\n",
              "    .colab-df-convert {\n",
              "      background-color: #E8F0FE;\n",
              "      border: none;\n",
              "      border-radius: 50%;\n",
              "      cursor: pointer;\n",
              "      display: none;\n",
              "      fill: #1967D2;\n",
              "      height: 32px;\n",
              "      padding: 0 0 0 0;\n",
              "      width: 32px;\n",
              "    }\n",
              "\n",
              "    .colab-df-convert:hover {\n",
              "      background-color: #E2EBFA;\n",
              "      box-shadow: 0px 1px 2px rgba(60, 64, 67, 0.3), 0px 1px 3px 1px rgba(60, 64, 67, 0.15);\n",
              "      fill: #174EA6;\n",
              "    }\n",
              "\n",
              "    [theme=dark] .colab-df-convert {\n",
              "      background-color: #3B4455;\n",
              "      fill: #D2E3FC;\n",
              "    }\n",
              "\n",
              "    [theme=dark] .colab-df-convert:hover {\n",
              "      background-color: #434B5C;\n",
              "      box-shadow: 0px 1px 3px 1px rgba(0, 0, 0, 0.15);\n",
              "      filter: drop-shadow(0px 1px 2px rgba(0, 0, 0, 0.3));\n",
              "      fill: #FFFFFF;\n",
              "    }\n",
              "  </style>\n",
              "\n",
              "      <script>\n",
              "        const buttonEl =\n",
              "          document.querySelector('#df-e795b113-1d05-4c33-9f6b-7bf84f8846d6 button.colab-df-convert');\n",
              "        buttonEl.style.display =\n",
              "          google.colab.kernel.accessAllowed ? 'block' : 'none';\n",
              "\n",
              "        async function convertToInteractive(key) {\n",
              "          const element = document.querySelector('#df-e795b113-1d05-4c33-9f6b-7bf84f8846d6');\n",
              "          const dataTable =\n",
              "            await google.colab.kernel.invokeFunction('convertToInteractive',\n",
              "                                                     [key], {});\n",
              "          if (!dataTable) return;\n",
              "\n",
              "          const docLinkHtml = 'Like what you see? Visit the ' +\n",
              "            '<a target=\"_blank\" href=https://colab.research.google.com/notebooks/data_table.ipynb>data table notebook</a>'\n",
              "            + ' to learn more about interactive tables.';\n",
              "          element.innerHTML = '';\n",
              "          dataTable['output_type'] = 'display_data';\n",
              "          await google.colab.output.renderOutput(dataTable, element);\n",
              "          const docLink = document.createElement('div');\n",
              "          docLink.innerHTML = docLinkHtml;\n",
              "          element.appendChild(docLink);\n",
              "        }\n",
              "      </script>\n",
              "    </div>\n",
              "  </div>\n",
              "  "
            ]
          },
          "metadata": {},
          "execution_count": 9
        }
      ]
    },
    {
      "cell_type": "code",
      "source": [
        "# Define column name of the label vector\n",
        "LABEL = 'ActivityEncoded'\n",
        "# Transform the labels from String to Integer via LabelEncoder\n",
        "le = preprocessing.LabelEncoder()\n",
        "# Add a new column to the existing DataFrame with the encoded values\n",
        "df[LABEL] = le.fit_transform(df['activity'].values.ravel())"
      ],
      "metadata": {
        "id": "e1AhlPmfC3Xf"
      },
      "execution_count": null,
      "outputs": []
    },
    {
      "cell_type": "code",
      "source": [
        "# Differentiate between test set and training set\n",
        "df_test = df[df['user-id'] > 28]\n",
        "df_train = df[df['user-id'] <= 28]"
      ],
      "metadata": {
        "id": "_NLr5c7pC92m"
      },
      "execution_count": null,
      "outputs": []
    },
    {
      "cell_type": "code",
      "source": [
        "# Normalize features for training data set (values between 0 and 1)\n",
        "# Surpress warning for next 3 operation\n",
        "pd.options.mode.chained_assignment = None  # default='warn'\n",
        "df_train['x-axis'] = df_train['x-axis'] / df_train['x-axis'].max()\n",
        "df_train['y-axis'] = df_train['y-axis'] / df_train['y-axis'].max()\n",
        "df_train['z-axis'] = df_train['z-axis'] / df_train['z-axis'].max()\n",
        "# Round numbers\n",
        "df_train = df_train.round({'x-axis': 4, 'y-axis': 4, 'z-axis': 4})"
      ],
      "metadata": {
        "id": "7KFDghTMDDoJ"
      },
      "execution_count": null,
      "outputs": []
    },
    {
      "cell_type": "code",
      "source": [
        "def create_segments_and_labels(df, time_steps, step, label_name):\n",
        "\n",
        "    # x, y, z acceleration as features\n",
        "    N_FEATURES = 3\n",
        "    # Number of steps to advance in each iteration (for me, it should always\n",
        "    # be equal to the time_steps in order to have no overlap between segments)\n",
        "    # step = time_steps\n",
        "    segments = []\n",
        "    labels = []\n",
        "    for i in range(0, len(df) - time_steps, step):\n",
        "        xs = df['x-axis'].values[i: i + time_steps]\n",
        "        ys = df['y-axis'].values[i: i + time_steps]\n",
        "        zs = df['z-axis'].values[i: i + time_steps]\n",
        "        # Retrieve the most often used label in this segment\n",
        "        label = stats.mode(df[label_name][i: i + time_steps])[0][0]\n",
        "        segments.append([xs, ys, zs])\n",
        "        labels.append(label)\n",
        "\n",
        "    # Bring the segments into a better shape\n",
        "    reshaped_segments = np.asarray(segments, dtype= np.float32).reshape(-1, time_steps, N_FEATURES)\n",
        "    labels = np.asarray(labels)\n",
        "\n",
        "    return reshaped_segments, labels\n",
        "\n",
        "x_train, y_train = create_segments_and_labels(df_train,\n",
        "                                              TIME_PERIODS,\n",
        "                                              STEP_DISTANCE,\n",
        "                                              LABEL)"
      ],
      "metadata": {
        "id": "dKrOJdMHDKvW"
      },
      "execution_count": null,
      "outputs": []
    },
    {
      "cell_type": "code",
      "source": [
        "print('x_train shape: ', x_train.shape)\n",
        "print(x_train.shape[0], 'training samples')\n",
        "print('y_train shape: ', y_train.shape)"
      ],
      "metadata": {
        "colab": {
          "base_uri": "https://localhost:8080/"
        },
        "id": "dv4lZDYxDVn6",
        "outputId": "1db9d3e8-66cd-4676-ee93-ac824a97f327"
      },
      "execution_count": null,
      "outputs": [
        {
          "output_type": "stream",
          "name": "stdout",
          "text": [
            "x_train shape:  (20868, 80, 3)\n",
            "20868 training samples\n",
            "y_train shape:  (20868,)\n"
          ]
        }
      ]
    },
    {
      "cell_type": "code",
      "source": [
        "# Set input & output dimensions\n",
        "num_time_periods, num_sensors = x_train.shape[1], x_train.shape[2]\n",
        "num_classes = le.classes_.size\n",
        "print(list(le.classes_))"
      ],
      "metadata": {
        "colab": {
          "base_uri": "https://localhost:8080/"
        },
        "id": "eBKo6GpFDbxw",
        "outputId": "bf19034d-9042-4e56-df92-a2c874f70e87"
      },
      "execution_count": null,
      "outputs": [
        {
          "output_type": "stream",
          "name": "stdout",
          "text": [
            "['Downstairs', 'Jogging', 'Sitting', 'Standing', 'Upstairs', 'Walking']\n"
          ]
        }
      ]
    },
    {
      "cell_type": "code",
      "source": [
        "input_shape = (num_time_periods*num_sensors)\n",
        "x_train = x_train.reshape(x_train.shape[0], input_shape)\n",
        "print('x_train shape:', x_train.shape)\n",
        "print('input_shape:', input_shape)"
      ],
      "metadata": {
        "colab": {
          "base_uri": "https://localhost:8080/"
        },
        "id": "Hvxf7f6BDenQ",
        "outputId": "594a62af-6b1c-4c0d-c6e9-5d3e5c55dc1b"
      },
      "execution_count": null,
      "outputs": [
        {
          "output_type": "stream",
          "name": "stdout",
          "text": [
            "x_train shape: (20868, 240)\n",
            "input_shape: 240\n"
          ]
        }
      ]
    },
    {
      "cell_type": "code",
      "source": [
        "x_train = x_train.astype('float32')\n",
        "y_train = y_train.astype('float32')"
      ],
      "metadata": {
        "id": "fDPfR2uzDh2n"
      },
      "execution_count": null,
      "outputs": []
    },
    {
      "cell_type": "code",
      "source": [
        "y_train_hot = np_utils.to_categorical(y_train, num_classes)\n",
        "print('New y_train shape: ', y_train_hot.shape)"
      ],
      "metadata": {
        "colab": {
          "base_uri": "https://localhost:8080/"
        },
        "id": "T4ylNKuADlV8",
        "outputId": "29421c8d-6639-4153-ac28-979e20cf8053"
      },
      "execution_count": null,
      "outputs": [
        {
          "output_type": "stream",
          "name": "stdout",
          "text": [
            "New y_train shape:  (20868, 6)\n"
          ]
        }
      ]
    },
    {
      "cell_type": "markdown",
      "source": [
        "Create Deep Neural Network Model in Keras\n"
      ],
      "metadata": {
        "id": "8AUB3j1rDr6Y"
      }
    },
    {
      "cell_type": "code",
      "source": [
        "model_m = Sequential()\n",
        "# Remark: since coreml cannot accept vector shapes of complex shape like\n",
        "# [80,3] this workaround is used in order to reshape the vector internally\n",
        "# prior feeding it into the network\n",
        "model_m.add(Reshape((TIME_PERIODS, 3), input_shape=(input_shape,)))\n",
        "model_m.add(Dense(100, activation='relu'))\n",
        "model_m.add(Dense(100, activation='relu'))\n",
        "model_m.add(Dense(100, activation='relu'))\n",
        "model_m.add(Flatten())\n",
        "model_m.add(Dense(num_classes, activation='softmax'))\n",
        "print(model_m.summary())"
      ],
      "metadata": {
        "colab": {
          "base_uri": "https://localhost:8080/"
        },
        "id": "PbhBRe5uDoQn",
        "outputId": "ec449cb0-210c-4bc7-c373-3d947efc9a30"
      },
      "execution_count": null,
      "outputs": [
        {
          "output_type": "stream",
          "name": "stdout",
          "text": [
            "WARNING:tensorflow:From /root/.local/lib/python3.7/site-packages/tensorflow/python/framework/op_def_library.py:263: colocate_with (from tensorflow.python.framework.ops) is deprecated and will be removed in a future version.\n",
            "Instructions for updating:\n",
            "Colocations handled automatically by placer.\n",
            "_________________________________________________________________\n",
            "Layer (type)                 Output Shape              Param #   \n",
            "=================================================================\n",
            "reshape_2 (Reshape)          (None, 80, 3)             0         \n",
            "_________________________________________________________________\n",
            "dense_1 (Dense)              (None, 80, 100)           400       \n",
            "_________________________________________________________________\n",
            "dense_2 (Dense)              (None, 80, 100)           10100     \n",
            "_________________________________________________________________\n",
            "dense_3 (Dense)              (None, 80, 100)           10100     \n",
            "_________________________________________________________________\n",
            "flatten_1 (Flatten)          (None, 8000)              0         \n",
            "_________________________________________________________________\n",
            "dense_4 (Dense)              (None, 6)                 48006     \n",
            "=================================================================\n",
            "Total params: 68,606\n",
            "Trainable params: 68,606\n",
            "Non-trainable params: 0\n",
            "_________________________________________________________________\n",
            "None\n"
          ]
        }
      ]
    },
    {
      "cell_type": "code",
      "source": [
        "callbacks_list = [\n",
        "    keras.callbacks.ModelCheckpoint(\n",
        "        filepath='best_model.{epoch:02d}-{val_loss:.2f}.h5',\n",
        "        monitor='val_loss', save_best_only=True),\n",
        "    keras.callbacks.EarlyStopping(monitor='acc', patience=1)\n",
        "]\n",
        "\n",
        "model_m.compile(loss='categorical_crossentropy',\n",
        "                optimizer='adam', metrics=['accuracy'])\n",
        "\n",
        "# Hyper-parameters\n",
        "BATCH_SIZE = 400\n",
        "EPOCHS = 50\n",
        "\n",
        "# Enable validation to use ModelCheckpoint and EarlyStopping callbacks.\n",
        "history = model_m.fit(x_train,\n",
        "                      y_train_hot,\n",
        "                      batch_size=BATCH_SIZE,\n",
        "                      epochs=EPOCHS,\n",
        "                      callbacks=callbacks_list,\n",
        "                      validation_split=0.2,\n",
        "                      verbose=1)"
      ],
      "metadata": {
        "colab": {
          "base_uri": "https://localhost:8080/"
        },
        "id": "BruxM0sNDvxd",
        "outputId": "674eef2e-2deb-40f7-9917-13930dc9d8b3"
      },
      "execution_count": null,
      "outputs": [
        {
          "output_type": "stream",
          "name": "stdout",
          "text": [
            "WARNING:tensorflow:From /root/.local/lib/python3.7/site-packages/tensorflow/python/ops/math_ops.py:3066: to_int32 (from tensorflow.python.ops.math_ops) is deprecated and will be removed in a future version.\n",
            "Instructions for updating:\n",
            "Use tf.cast instead.\n",
            "Train on 16694 samples, validate on 4174 samples\n",
            "Epoch 1/50\n",
            "16694/16694 [==============================] - 9s 563us/step - loss: 1.0925 - acc: 0.6351 - val_loss: 0.7235 - val_acc: 0.8074\n",
            "Epoch 2/50\n",
            "16694/16694 [==============================] - 9s 545us/step - loss: 0.6077 - acc: 0.7861 - val_loss: 0.6404 - val_acc: 0.8136\n",
            "Epoch 3/50\n",
            "16694/16694 [==============================] - 14s 863us/step - loss: 0.5231 - acc: 0.8081 - val_loss: 0.6369 - val_acc: 0.8206\n",
            "Epoch 4/50\n",
            "16694/16694 [==============================] - 9s 544us/step - loss: 0.4963 - acc: 0.8174 - val_loss: 0.6412 - val_acc: 0.8172\n",
            "Epoch 5/50\n",
            "16694/16694 [==============================] - 9s 545us/step - loss: 0.4648 - acc: 0.8297 - val_loss: 0.6186 - val_acc: 0.8287\n",
            "Epoch 6/50\n",
            "16694/16694 [==============================] - 9s 539us/step - loss: 0.4447 - acc: 0.8378 - val_loss: 0.6351 - val_acc: 0.8277\n",
            "Epoch 7/50\n",
            "16694/16694 [==============================] - 9s 540us/step - loss: 0.4258 - acc: 0.8444 - val_loss: 0.6650 - val_acc: 0.7856\n",
            "Epoch 8/50\n",
            "16694/16694 [==============================] - 9s 539us/step - loss: 0.4035 - acc: 0.8533 - val_loss: 0.7237 - val_acc: 0.7580\n",
            "Epoch 9/50\n",
            "16694/16694 [==============================] - 9s 540us/step - loss: 0.3857 - acc: 0.8584 - val_loss: 0.6723 - val_acc: 0.7805\n",
            "Epoch 10/50\n",
            "16694/16694 [==============================] - 9s 538us/step - loss: 0.3737 - acc: 0.8622 - val_loss: 0.6993 - val_acc: 0.7547\n",
            "Epoch 11/50\n",
            "16694/16694 [==============================] - 9s 539us/step - loss: 0.3607 - acc: 0.8658 - val_loss: 0.6731 - val_acc: 0.8016\n",
            "Epoch 12/50\n",
            "16694/16694 [==============================] - 9s 541us/step - loss: 0.3528 - acc: 0.8695 - val_loss: 0.7043 - val_acc: 0.7940\n",
            "Epoch 13/50\n",
            "16694/16694 [==============================] - 9s 540us/step - loss: 0.3352 - acc: 0.8755 - val_loss: 0.6988 - val_acc: 0.7599\n",
            "Epoch 14/50\n",
            "16694/16694 [==============================] - 10s 611us/step - loss: 0.3257 - acc: 0.8803 - val_loss: 0.7396 - val_acc: 0.7535\n",
            "Epoch 15/50\n",
            "16694/16694 [==============================] - 9s 542us/step - loss: 0.3189 - acc: 0.8816 - val_loss: 0.6922 - val_acc: 0.7899\n",
            "Epoch 16/50\n",
            "16694/16694 [==============================] - 9s 539us/step - loss: 0.3059 - acc: 0.8873 - val_loss: 0.7781 - val_acc: 0.7413\n",
            "Epoch 17/50\n",
            "16694/16694 [==============================] - 9s 540us/step - loss: 0.2931 - acc: 0.8935 - val_loss: 0.7972 - val_acc: 0.7357\n",
            "Epoch 18/50\n",
            "16694/16694 [==============================] - 9s 539us/step - loss: 0.2919 - acc: 0.8896 - val_loss: 0.8388 - val_acc: 0.7077\n"
          ]
        }
      ]
    },
    {
      "cell_type": "code",
      "source": [
        "plt.figure(figsize=(6, 4))\n",
        "plt.plot(history.history['acc'], 'r', label='Accuracy of training data')\n",
        "plt.plot(history.history['val_acc'], 'b', label='Accuracy of validation data')\n",
        "plt.plot(history.history['loss'], 'r--', label='Loss of training data')\n",
        "plt.plot(history.history['val_loss'], 'b--', label='Loss of validation data')\n",
        "plt.title('Model Accuracy and Loss')\n",
        "plt.ylabel('Accuracy and Loss')\n",
        "plt.xlabel('Training Epoch')\n",
        "plt.ylim(0)\n",
        "plt.legend()\n",
        "plt.show()\n",
        "\n",
        "# Print confusion matrix for training data\n",
        "y_pred_train = model_m.predict(x_train)\n",
        "# Take the class with the highest probability from the train predictions\n",
        "max_y_pred_train = np.argmax(y_pred_train, axis=1)\n",
        "print(classification_report(y_train, max_y_pred_train))"
      ],
      "metadata": {
        "colab": {
          "base_uri": "https://localhost:8080/",
          "height": 527
        },
        "id": "UtuPRWiHHn_v",
        "outputId": "cddadde4-884e-497d-8f7c-da44c42471bf"
      },
      "execution_count": null,
      "outputs": [
        {
          "output_type": "display_data",
          "data": {
            "text/plain": [
              "<Figure size 432x288 with 1 Axes>"
            ],
            "image/png": "[encoded data removed]"
          },
          "metadata": {}
        },
        {
          "output_type": "stream",
          "name": "stdout",
          "text": [
            "              precision    recall  f1-score   support\n",
            "\n",
            "         0.0       0.63      0.50      0.56      1864\n",
            "         1.0       0.98      0.98      0.98      6567\n",
            "         2.0       0.98      0.99      0.99      1050\n",
            "         3.0       0.98      0.99      0.99       833\n",
            "         4.0       0.55      0.73      0.63      2342\n",
            "         5.0       0.90      0.86      0.88      8212\n",
            "\n",
            "    accuracy                           0.86     20868\n",
            "   macro avg       0.84      0.84      0.84     20868\n",
            "weighted avg       0.87      0.86      0.86     20868\n",
            "\n"
          ]
        }
      ]
    },
    {
      "cell_type": "code",
      "source": [
        "# Normalize features for training data set\n",
        "df_test['x-axis'] = df_test['x-axis'] / df_test['x-axis'].max()\n",
        "df_test['y-axis'] = df_test['y-axis'] / df_test['y-axis'].max()\n",
        "df_test['z-axis'] = df_test['z-axis'] / df_test['z-axis'].max()\n",
        "\n",
        "df_test = df_test.round({'x-axis': 4, 'y-axis': 4, 'z-axis': 4})\n",
        "\n",
        "x_test, y_test = create_segments_and_labels(df_test,\n",
        "                                            TIME_PERIODS,\n",
        "                                            STEP_DISTANCE,\n",
        "                                            LABEL)\n",
        "\n",
        "# Set input_shape / reshape for Keras\n",
        "x_test = x_test.reshape(x_test.shape[0], input_shape)\n",
        "\n",
        "x_test = x_test.astype('float32')\n",
        "y_test = y_test.astype('float32')\n",
        "\n",
        "y_test = np_utils.to_categorical(y_test, num_classes)\n",
        "\n",
        "score = model_m.evaluate(x_test, y_test, verbose=1)\n",
        "\n",
        "print('\\nAccuracy on test data: %0.2f' % score[1])\n",
        "print('\\nLoss on test data: %0.2f' % score[0])"
      ],
      "metadata": {
        "colab": {
          "base_uri": "https://localhost:8080/"
        },
        "id": "tZfd2sakIQUn",
        "outputId": "d2f5fb5e-ce03-419b-b054-4bcbda8674f2"
      },
      "execution_count": null,
      "outputs": [
        {
          "output_type": "stream",
          "name": "stdout",
          "text": [
            "6584/6584 [==============================] - 2s 246us/step\n",
            "\n",
            "Accuracy on test data: 0.73\n",
            "\n",
            "Loss on test data: 1.29\n"
          ]
        }
      ]
    },
    {
      "cell_type": "code",
      "source": [
        "model_m.save('source_model_for_conversion.h5')\n",
        "converter = tf.lite.TFLiteConverter.from_keras_model_file('source_model_for_conversion.h5')\n",
        "tflite_model = converter.convert()\n",
        "open(\"converted_model.tflite\", \"wb\").write(tflite_model)\n"
      ],
      "metadata": {
        "colab": {
          "base_uri": "https://localhost:8080/"
        },
        "id": "XoUXIuOPd1Dr",
        "outputId": "796fe017-7ad6-4f3d-9ac8-b43f8da4aca6"
      },
      "execution_count": null,
      "outputs": [
        {
          "output_type": "stream",
          "name": "stdout",
          "text": [
            "INFO:tensorflow:Froze 8 variables.\n",
            "INFO:tensorflow:Converted 8 variables to const ops.\n"
          ]
        },
        {
          "output_type": "execute_result",
          "data": {
            "text/plain": [
              "277252"
            ]
          },
          "metadata": {},
          "execution_count": 45
        }
      ]
    }
  ]
}